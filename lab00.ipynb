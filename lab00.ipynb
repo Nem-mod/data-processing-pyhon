{
 "cells": [
  {
   "cell_type": "markdown",
   "source": [
    "# Лабораторна робота No0\n",
    "# Основи роботи в середовищі Jupyter Notebook\n",
    "\n",
    "## Мета роботи: ознайомитись з особливістю використання мови Python в середовищі Jupyter Notebook та отримати навички роботи з блокнотом."
   ],
   "metadata": {
    "collapsed": false
   },
   "id": "d9545e485ae1e4d6"
  },
  {
   "cell_type": "markdown",
   "source": [
    "## Варіант 6"
   ],
   "metadata": {
    "collapsed": false
   },
   "id": "d88c85f61fbe1aa5"
  },
  {
   "cell_type": "code",
   "execution_count": 21,
   "outputs": [
    {
     "name": "stdout",
     "output_type": "stream",
     "text": [
      "6\n"
     ]
    }
   ],
   "source": [
    "N = ord('A') % 10 + 1\n",
    "\n",
    "print(N)"
   ],
   "metadata": {
    "collapsed": false,
    "ExecuteTime": {
     "end_time": "2023-10-08T12:21:50.445638300Z",
     "start_time": "2023-10-08T12:21:50.419560800Z"
    }
   },
   "id": "541e4ef79d7355a0"
  },
  {
   "cell_type": "markdown",
   "source": [
    "# Країна: Йорданія\n",
    "\n",
    "## Основні факти\n",
    "\n",
    "- **Площа:** 89,342 кв. км\n",
    "- **Населення:** близько 10 мільйонів осіб\n",
    "- **Державний устрій:** Королівство\n",
    "- **Мова:** Арабська\n",
    "\n",
    "## Видатні персоналії\n",
    "\n",
    "- Король Абдуллах II: Поточний король Йорданії та головнокомандувач Збройних сил.\n",
    "- Кінг Хуссейн: Попередній король і символ єдності країни.\n",
    "- Квін Ранія: Королева Йорданії та активістка.\n",
    "\n",
    "## Пам'ятки культури\n",
    "\n",
    "- Петра: Археологічний диво, викопане в скелях, включене до списку світової спадщини ЮНЕСКО.\n",
    "- Амманський амфітеатр: Давній амфітеатр у столиці країни.\n",
    "\n",
    "## Природа\n",
    "\n",
    "- Мертве море: Найнижче розташоване наземне озеро на планеті із залишками Солоного моря.\n",
    "- Резерват Дана: Захищений природний регіон із різноманітністю фауни і флори.\n",
    "\n",
    "## Флаг Йорданії\n"
   ],
   "metadata": {
    "collapsed": false
   },
   "id": "19aa57d803c523b4"
  },
  {
   "cell_type": "code",
   "execution_count": 22,
   "outputs": [
    {
     "data": {
      "text/plain": "<IPython.core.display.HTML object>",
      "text/html": " <svg xmlns=\"http://www.w3.org/2000/svg\" width=\"800\" height=\"400\" viewBox=\"0 0 10080 5040\">\n\t<title>Flag of Jordan</title>\n\t<path fill=\"#fff\" d=\"m0 0h10080v5040H0z\"/>\n\t<path d=\"m0 0h10080v1680H0z\"/>\n\t<path fill=\"#007a3d\" d=\"m0 3360h10080v1680H0z\"/>\n\t<path fill=\"#ce1126\" d=\"m5040 2520L0 5040V0m1557 2160-78 198-203-62 106 184-176 120 211 32-16 212 156-144 157 144-16-212 210-32-175-120 106-184-203 62z\"/>\n</svg>\n"
     },
     "execution_count": 22,
     "metadata": {},
     "output_type": "execute_result"
    }
   ],
   "source": [
    "from IPython.core.display import HTML\n",
    "HTML(''' <svg xmlns=\"http://www.w3.org/2000/svg\" width=\"800\" height=\"400\" viewBox=\"0 0 10080 5040\">\n",
    "\t<title>Flag of Jordan</title>\n",
    "\t<path fill=\"#fff\" d=\"m0 0h10080v5040H0z\"/>\n",
    "\t<path d=\"m0 0h10080v1680H0z\"/>\n",
    "\t<path fill=\"#007a3d\" d=\"m0 3360h10080v1680H0z\"/>\n",
    "\t<path fill=\"#ce1126\" d=\"m5040 2520L0 5040V0m1557 2160-78 198-203-62 106 184-176 120 211 32-16 212 156-144 157 144-16-212 210-32-175-120 106-184-203 62z\"/>\n",
    "</svg>\n",
    "''')"
   ],
   "metadata": {
    "collapsed": false,
    "ExecuteTime": {
     "end_time": "2023-10-08T12:21:50.446637500Z",
     "start_time": "2023-10-08T12:21:50.427409600Z"
    }
   },
   "id": "d7edbd6c3a342c08"
  },
  {
   "cell_type": "code",
   "execution_count": 23,
   "outputs": [
    {
     "name": "stdout",
     "output_type": "stream",
     "text": [
      "[3, 5, 7, 11, 13]\n"
     ]
    }
   ],
   "source": [
    "def is_prime(num):\n",
    "    if num <= 1:\n",
    "        return False\n",
    "    if num <= 3:\n",
    "        return True\n",
    "    if num % 2 == 0 or num % 3 == 0:\n",
    "        return False\n",
    "    i = 5\n",
    "    while i * i <= num:\n",
    "        if num % i == 0 or num % (i + 2) == 0:\n",
    "            return False\n",
    "        i += 6\n",
    "    return True\n",
    "\n",
    "\n",
    "def task_6():\n",
    "    a, b = map(int, input().split())\n",
    "    prime_numbers = [num for num in range(max(2, a), b + 1) if is_prime(num)]\n",
    "    print(prime_numbers)\n",
    "\n",
    "\n",
    "task_6()"
   ],
   "metadata": {
    "collapsed": false,
    "ExecuteTime": {
     "end_time": "2023-10-08T12:21:53.251316300Z",
     "start_time": "2023-10-08T12:21:50.431634700Z"
    }
   },
   "id": "18c42c8657903217"
  },
  {
   "cell_type": "code",
   "execution_count": 24,
   "outputs": [
    {
     "name": "stdout",
     "output_type": "stream",
     "text": [
      "[7, 11, 13, 17, 19, 23]\n"
     ]
    }
   ],
   "source": [
    "task_6()"
   ],
   "metadata": {
    "collapsed": false,
    "ExecuteTime": {
     "end_time": "2023-10-08T12:21:59.093068700Z",
     "start_time": "2023-10-08T12:21:53.195295700Z"
    }
   },
   "id": "6d69ecf856ca2343"
  }
 ],
 "metadata": {
  "kernelspec": {
   "display_name": "Python 3",
   "language": "python",
   "name": "python3"
  },
  "language_info": {
   "codemirror_mode": {
    "name": "ipython",
    "version": 2
   },
   "file_extension": ".py",
   "mimetype": "text/x-python",
   "name": "python",
   "nbconvert_exporter": "python",
   "pygments_lexer": "ipython2",
   "version": "2.7.6"
  }
 },
 "nbformat": 4,
 "nbformat_minor": 5
}
